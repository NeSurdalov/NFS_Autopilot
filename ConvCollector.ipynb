{
 "cells": [
  {
   "cell_type": "code",
   "execution_count": 2,
   "metadata": {},
   "outputs": [],
   "source": [
    "import keyboard\n",
    "import cv2\n",
    "import pyautogui\n",
    "import pygetwindow as gw\n",
    "import time\n",
    "import classes.Imcap as Imcap\n",
    "from datetime import datetime\n",
    "import numpy as np\n",
    "import matplotlib.pyplot as plt\n",
    "from tensorflow import keras\n",
    "#from main import Imcap\n",
    "%matplotlib inline\n",
    "# from tensorflow\n",
    "fps = 5\n"
   ]
  },
  {
   "cell_type": "markdown",
   "metadata": {},
   "source": [
    "Секция записи кадров для обучения:"
   ]
  },
  {
   "cell_type": "code",
   "execution_count": 3,
   "metadata": {},
   "outputs": [],
   "source": [
    "class read:\n",
    "    pressed = {'w': False, 'a': False, 's': False, 'd': False, 'shift': False}\n",
    "\n",
    "    def check_buttons():\n",
    "        for i in read.pressed:\n",
    "            if keyboard.is_pressed(i):\n",
    "                read.pressed[i] = True\n",
    "            else:\n",
    "                read.pressed[i] = False\n",
    "\n",
    "\n",
    "class frame:\n",
    "    def __init__(self, screen, map, speed, buttons):\n",
    "\n",
    "        self.screen = screen\n",
    "        self.map = map\n",
    "        self.speed = speed\n",
    "        self.buttons = buttons\n"
   ]
  },
  {
   "cell_type": "code",
   "execution_count": 3,
   "metadata": {},
   "outputs": [],
   "source": [
    "\n",
    "class Movements:\n",
    "    '''use move. method to: do some of this things:'''\n",
    "\n",
    "    def __init__(self):\n",
    "        self.pressed = {'w': True, 'a': False, 's': False, 'd': False}\n",
    "\n",
    "    def gas(self):\n",
    "        if (self.pressed['s']):\n",
    "            keyboard.release(\"s\")\n",
    "            self.pressed['s'] = False\n",
    "        keyboard.press(\"w\")\n",
    "        self.pressed['w'] = True\n",
    "\n",
    "    def brake(self):\n",
    "        if (self.pressed['w']):\n",
    "            keyboard.release(\"w\")\n",
    "            self.pressed['w'] = False\n",
    "        keyboard.press(\"s\")\n",
    "        self.pressed['s'] = True\n",
    "\n",
    "    def roll(self):\n",
    "        if (self.pressed['w']):\n",
    "            keyboard.release(\"w\")\n",
    "            self.pressed['w'] = False\n",
    "        if (self.pressed['s']):\n",
    "            keyboard.release(\"s\")\n",
    "            self.pressed['s'] = False\n",
    "\n",
    "    def left(self):\n",
    "        if (self.pressed['d']):\n",
    "            keyboard.release(\"d\")\n",
    "            self.pressed['d'] = False\n",
    "        keyboard.press(\"a\")\n",
    "        self.pressed['a'] = True\n",
    "\n",
    "    def right(self):\n",
    "        if (self.pressed['a']):\n",
    "            keyboard.release(\"a\")\n",
    "            self.pressed['a'] = False\n",
    "        keyboard.press(\"d\")\n",
    "        self.pressed['d'] = True\n",
    "\n",
    "    def straight(self):\n",
    "        if (self.pressed['a']):\n",
    "            keyboard.release(\"a\")\n",
    "            self.pressed['a'] = False\n",
    "        if (self.pressed['d']):\n",
    "            keyboard.release(\"d\")\n",
    "            self.pressed['d'] = False\n",
    "\n",
    "    def realise_all(self):\n",
    "        keyboard.release(\"w\")\n",
    "        keyboard.release(\"a\")\n",
    "        keyboard.release(\"s\")\n",
    "        keyboard.release(\"d\")\n",
    "\n",
    "\n",
    "move = Movements()\n"
   ]
  },
  {
   "attachments": {},
   "cell_type": "markdown",
   "metadata": {},
   "source": [
    "Основная часть записи:"
   ]
  },
  {
   "cell_type": "code",
   "execution_count": 10,
   "metadata": {},
   "outputs": [],
   "source": [
    "'''Этот кусочек кода делает скрин'''\n",
    "window_name = \"Need for Speed™ Most Wanted\"\n",
    "fourcc = cv2.VideoWriter_fourcc(*\"XVID\")\n",
    "window = gw.getWindowsWithTitle(window_name)[0]\n",
    "data = np.array([])\n",
    "if window != []:\n",
    "    try:\n",
    "        window.activate()\n",
    "    except:\n",
    "        window.maximize()\n",
    "while True:\n",
    "    # time.sleep(1/15)\n",
    "    window_rect = (window.left, window.top, window.width, window.height)\n",
    "\n",
    "    # Breaking the window into segments:\n",
    "    map_rect, speed_rect = Imcap.get_rects(window)[0:4]\n",
    "\n",
    "    nfs_map = np.array(pyautogui.screenshot(region=map_rect))\n",
    "    nfs_speed = np.array(pyautogui.screenshot(region=speed_rect))\n",
    "    screen = np.array(pyautogui.screenshot(region=window_rect))\n",
    "\n",
    "    (thresh, nfs_speed) = cv2.threshold(nfs_speed, 50, 255,\n",
    "                                        cv2.THRESH_BINARY)  # Darker speedometer pixels screening out\n",
    "    nfs_speed = cv2.cvtColor(nfs_speed, cv2.COLOR_BGR2GRAY)\n",
    "    screen = np.array(cv2.cvtColor(screen, cv2.COLOR_BGR2RGB))\n",
    "    width = int(screen.shape[1] / 5)\n",
    "    height = int(screen.shape[0] / 5)\n",
    "    dim = (width, height)\n",
    "    screen = cv2.resize(screen, dim)\n",
    "    nfs_map = cv2.cvtColor(nfs_map, cv2.COLOR_BGR2RGB)\n",
    "    frame_map = np.array(nfs_map)\n",
    "    speed_list = Imcap.get_speed_list(np.array(nfs_speed))\n",
    "    speed = Imcap.get_speed(speed_list)\n",
    "    cv2.imshow(\"screen\", screen)\n",
    "    read.check_buttons()\n",
    "    if (speed != 888):\n",
    "        data = np.append(data, frame(screen, nfs_map, speed, read.pressed))\n",
    "    if cv2.waitKey(1) & 0xFF == ord('q'):\n",
    "        break\n",
    "cv2.destroyAllWindows()\n",
    "np.savez_compressed(\"game_data2\", data)\n"
   ]
  },
  {
   "cell_type": "code",
   "execution_count": 4,
   "metadata": {},
   "outputs": [],
   "source": [
    "data = np.hstack([np.load(\"\\data\\game_data1.npz\"), np.load(\"\\data\\game_data2.npz\"), np.load(\"data\\game_data3.npz\"), np.load(\n",
    "    \"data\\game_data4.npz\"), np.load(\"data\\game_data6.npz\"), np.load(\"data\\Corner chase fast.npz\")])\n"
   ]
  },
  {
   "cell_type": "code",
   "execution_count": 21,
   "metadata": {},
   "outputs": [
    {
     "data": {
      "text/plain": [
       "<numpy.lib.npyio.NpzFile at 0x163454e3f10>"
      ]
     },
     "execution_count": 21,
     "metadata": {},
     "output_type": "execute_result"
    }
   ],
   "source": [
    "np.load(\"data/game_data1.npz\")\n"
   ]
  }
 ],
 "metadata": {
  "kernelspec": {
   "display_name": "Python 3.10.8 ('opencv-env')",
   "language": "python",
   "name": "python3"
  },
  "language_info": {
   "codemirror_mode": {
    "name": "ipython",
    "version": 3
   },
   "file_extension": ".py",
   "mimetype": "text/x-python",
   "name": "python",
   "nbconvert_exporter": "python",
   "pygments_lexer": "ipython3",
   "version": "3.10.8 | packaged by conda-forge | (main, Nov 22 2022, 08:16:53) [MSC v.1929 64 bit (AMD64)]"
  },
  "orig_nbformat": 4,
  "vscode": {
   "interpreter": {
    "hash": "48f7a9830f443d07227a686b836c9c5f6038d57a32b4b7b378aa65b803eeab86"
   }
  }
 },
 "nbformat": 4,
 "nbformat_minor": 2
}
