{
 "cells": [
  {
   "cell_type": "code",
   "execution_count": 13,
   "metadata": {},
   "outputs": [],
   "source": [
    "import keyboard\n",
    "import time\n",
    "from datetime import datetime\n",
    "import numpy as np\n",
    "import matplotlib.pyplot as plt\n",
    "from tensorflow import keras\n",
    "#from main import Imcap\n",
    "%matplotlib inline\n",
    "#from tensorflow \n",
    "fps=1"
   ]
  },
  {
   "cell_type": "markdown",
   "metadata": {},
   "source": [
    "Секция записи кадров для обучения:"
   ]
  },
  {
   "cell_type": "code",
   "execution_count": 16,
   "metadata": {},
   "outputs": [],
   "source": [
    "class read:\n",
    "    pressed={'w':False, 'a':False, 's': False, 'd':False}\n",
    "    prev_time=datetime.now().microsecond\n",
    "    def check_buttons():\n",
    "        for i in read.pressed:\n",
    "            if keyboard.is_pressed(i):\n",
    "                read.pressed[i]=True\n",
    "            else:\n",
    "                read.pressed[i]=False"
   ]
  },
  {
   "cell_type": "code",
   "execution_count": null,
   "metadata": {},
   "outputs": [],
   "source": [
    "class Movements:\n",
    "    '''use move. method to: do some of this things:'''\n",
    "    def __init__(self):\n",
    "        self.pressed = {'w': True, 'a': False, 's': False, 'd': False}``\n",
    "        \n",
    "    def gas(self):\n",
    "        if(self.pressed['s']): \n",
    "            keyboard.release(\"s\")\n",
    "            self.pressed['s'] = False\n",
    "        keyboard.press(\"w\")\n",
    "        self.pressed['w'] = True\n",
    "\n",
    "    def brake(self):\n",
    "        if(self.pressed['w']): \n",
    "            keyboard.release(\"w\")\n",
    "            self.pressed['w'] = False\n",
    "        keyboard.press(\"s\")\n",
    "        self.pressed['s'] = True\n",
    "\n",
    "    def roll(self):\n",
    "        if(self.pressed['w']): \n",
    "            keyboard.release(\"w\")\n",
    "            self.pressed['w'] = False\n",
    "        if(self.pressed['s']): \n",
    "            keyboard.release(\"s\")\n",
    "            self.pressed['s'] = False\n",
    "\n",
    "\n",
    "    def left(self):\n",
    "        if(self.pressed['d']): \n",
    "            keyboard.release(\"d\")\n",
    "            self.pressed['d'] = False\n",
    "        keyboard.press(\"a\")\n",
    "        self.pressed['a'] = True\n",
    "\n",
    "    def right(self):\n",
    "        if(self.pressed['a']): \n",
    "            keyboard.release(\"a\")\n",
    "            self.pressed['a'] = False\n",
    "        keyboard.press(\"d\")\n",
    "        self.pressed['d'] = True\n",
    "    \n",
    "    def straight(self):\n",
    "        if(self.pressed['a']): \n",
    "            keyboard.release(\"a\")\n",
    "            self.pressed['a'] = False\n",
    "        if(self.pressed['d']): \n",
    "            keyboard.release(\"d\")\n",
    "            self.pressed['d'] = False\n",
    "    def realise_all(self):\n",
    "        keyboard.release(\"w\")\n",
    "        keyboard.release(\"a\")\n",
    "        keyboard.release(\"s\")\n",
    "        keyboard.release(\"d\")\n",
    "\n",
    "    \n",
    "        \n",
    "move=Movements()"
   ]
  },
  {
   "cell_type": "code",
   "execution_count": null,
   "metadata": {},
   "outputs": [],
   "source": [
    "'''Этот кусочек кода делает скрин'''\n",
    "window_name = \"Need for Speed™ Most Wanted\"\n",
    "fourcc = cv2.VideoWriter_fourcc(*\"XVID\")\n",
    "window = gw.getWindowsWithTitle(window_name)[0]\n",
    "window.activate()\n"
   ]
  }
 ],
 "metadata": {
  "kernelspec": {
   "display_name": "opencv-env",
   "language": "python",
   "name": "python3"
  },
  "language_info": {
   "codemirror_mode": {
    "name": "ipython",
    "version": 3
   },
   "file_extension": ".py",
   "mimetype": "text/x-python",
   "name": "python",
   "nbconvert_exporter": "python",
   "pygments_lexer": "ipython3",
   "version": "3.10.8 | packaged by conda-forge | (main, Nov 24 2022, 14:07:00) [MSC v.1916 64 bit (AMD64)]"
  },
  "orig_nbformat": 4,
  "vscode": {
   "interpreter": {
    "hash": "1d21e022af8236c8325058426aa9fe760922b364c24e81e4266f3a112b7ae044"
   }
  }
 },
 "nbformat": 4,
 "nbformat_minor": 2
}
