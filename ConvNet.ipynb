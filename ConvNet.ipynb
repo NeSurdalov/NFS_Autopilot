{
 "cells": [
  {
   "cell_type": "code",
   "execution_count": 13,
   "metadata": {},
   "outputs": [],
   "source": [
    "import keyboard\n",
    "import time\n",
    "from datetime import datetime\n",
    "import numpy as np\n",
    "import matplotlib.pyplot as plt\n",
    "from tensorflow import keras\n",
    "#from main import Imcap\n",
    "%matplotlib inline\n",
    "#from tensorflow \n",
    "fps=1"
   ]
  },
  {
   "cell_type": "markdown",
   "metadata": {},
   "source": [
    "Секция записи кадров для обучения:"
   ]
  },
  {
   "cell_type": "code",
   "execution_count": 16,
   "metadata": {},
   "outputs": [],
   "source": [
    "class read:\n",
    "    pressed={'w':False, 'a':False, 's': False, 'd':False}\n",
    "    prev_time=datetime.now().microsecond\n",
    "    def check_buttons():\n",
    "        for i in read.pressed:\n",
    "            if keyboard.is_pressed(i):\n",
    "                read.pressed[i]=True\n",
    "            else:\n",
    "                read.pressed[i]=False"
   ]
  },
  {
   "cell_type": "code",
   "execution_count": null,
   "metadata": {},
   "outputs": [],
   "source": [
    "'''Этот кусочек кода делает скрин'''\n",
    "window_name = \"Need for Speed™ Most Wanted\"\n",
    "fourcc = cv2.VideoWriter_fourcc(*\"XVID\")\n",
    "window = gw.getWindowsWithTitle(window_name)[0]\n",
    "window.activate()\n"
   ]
  }
 ],
 "metadata": {
  "kernelspec": {
   "display_name": "Python 3.10.8 ('opencv-env')",
   "language": "python",
   "name": "python3"
  },
  "language_info": {
   "codemirror_mode": {
    "name": "ipython",
    "version": 3
   },
   "file_extension": ".py",
   "mimetype": "text/x-python",
   "name": "python",
   "nbconvert_exporter": "python",
   "pygments_lexer": "ipython3",
   "version": "3.10.8"
  },
  "orig_nbformat": 4,
  "vscode": {
   "interpreter": {
    "hash": "48f7a9830f443d07227a686b836c9c5f6038d57a32b4b7b378aa65b803eeab86"
   }
  }
 },
 "nbformat": 4,
 "nbformat_minor": 2
}
