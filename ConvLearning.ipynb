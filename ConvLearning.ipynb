{
 "cells": [
  {
   "cell_type": "code",
   "execution_count": 12,
   "metadata": {},
   "outputs": [],
   "source": [
    "import numpy as np\n",
    "import matplotlib.pyplot as plt \n",
    "from tensorflow import keras\n",
    "%matplotlib inline\n",
    "from keras.models import Sequential\n",
    "from keras.layers import Dense, Dropout\n",
    "from keras import utils\n",
    "\n",
    "class frame:\n",
    "    def __init__(self, screen, map, speed, buttons):\n",
    "\n",
    "        self.screen=screen\n",
    "        self.map=map\n",
    "        self.speed=speed\n",
    "        self.buttons=buttons\n"
   ]
  },
  {
   "cell_type": "code",
   "execution_count": 15,
   "metadata": {},
   "outputs": [],
   "source": [
    "data=np.hstack([np.load(\"data\\game_data1.npz\"),np.load(\"data\\game_data2.npz\"),np.load(\"data\\game_data3.npz\"),np.load(\"data\\game_data4.npz\"),np.load(\"data\\game_data6.npz\"),np.load(\"data\\Corner chase fast.npz\")])"
   ]
  },
  {
   "cell_type": "code",
   "execution_count": 18,
   "metadata": {},
   "outputs": [],
   "source": [
    "data=np.hstack([np.load(\"data\\game_data1.npz\"),np.load(\"data\\game_data2.npz\")])"
   ]
  },
  {
   "cell_type": "code",
   "execution_count": 19,
   "metadata": {},
   "outputs": [
    {
     "data": {
      "text/plain": [
       "array(['arr_0', 'arr_0'], dtype='<U5')"
      ]
     },
     "execution_count": 19,
     "metadata": {},
     "output_type": "execute_result"
    }
   ],
   "source": [
    "data"
   ]
  }
 ],
 "metadata": {
  "kernelspec": {
   "display_name": "opencv-env",
   "language": "python",
   "name": "python3"
  },
  "language_info": {
   "codemirror_mode": {
    "name": "ipython",
    "version": 3
   },
   "file_extension": ".py",
   "mimetype": "text/x-python",
   "name": "python",
   "nbconvert_exporter": "python",
   "pygments_lexer": "ipython3",
   "version": "3.10.8"
  },
  "orig_nbformat": 4,
  "vscode": {
   "interpreter": {
    "hash": "48f7a9830f443d07227a686b836c9c5f6038d57a32b4b7b378aa65b803eeab86"
   }
  }
 },
 "nbformat": 4,
 "nbformat_minor": 2
}
