{
 "cells": [
  {
   "cell_type": "code",
   "execution_count": 3,
   "metadata": {},
   "outputs": [],
   "source": [
    "import numpy as np\n",
    "import cv2"
   ]
  },
  {
   "cell_type": "code",
   "execution_count": 5,
   "metadata": {},
   "outputs": [
    {
     "name": "stdout",
     "output_type": "stream",
     "text": [
      "(133, 144)\n"
     ]
    }
   ],
   "source": [
    "img = cv2.imread('images/map.jpg')\n",
    "hsv = cv2.cvtColor(img, cv2.COLOR_BGR2HSV)\n",
    "\n",
    "lower_orange = np.array([100, 191, 116])\n",
    "upper_orange = np.array([180, 255, 255])\n",
    "mask = cv2.inRange(img, lower_orange, upper_orange)\n",
    "orange = cv2.bitwise_and(hsv, hsv, mask = mask)\n",
    "\n",
    "def get_center(mask):\n",
    "    for y in range(int(mask.shape[0] / 3), mask.shape[0]):\n",
    "        for x in range(mask.shape[1]):\n",
    "            if mask[y, x] > 100:\n",
    "                return(x, y)\n",
    "\n",
    "fps = 30.0\n",
    "while True:\n",
    "    cv2.imshow('mask', mask)\n",
    "    if cv2.waitKey(1) & 0xFF == ord('q'):\n",
    "        print(get_center(mask))\n",
    "        break\n",
    "cv2.destroyAllWindows()"
   ]
  },
  {
   "cell_type": "code",
   "execution_count": 1,
   "metadata": {},
   "outputs": [
    {
     "ename": "ModuleNotFoundError",
     "evalue": "No module named 'Steering'",
     "output_type": "error",
     "traceback": [
      "\u001b[1;31m---------------------------------------------------------------------------\u001b[0m",
      "\u001b[1;31mModuleNotFoundError\u001b[0m                       Traceback (most recent call last)",
      "Cell \u001b[1;32mIn[1], line 1\u001b[0m\n\u001b[1;32m----> 1\u001b[0m \u001b[39mimport\u001b[39;00m \u001b[39mSteering\u001b[39;00m\n",
      "\u001b[1;31mModuleNotFoundError\u001b[0m: No module named 'Steering'"
     ]
    }
   ],
   "source": [
    "import Steering"
   ]
  }
 ],
 "metadata": {
  "kernelspec": {
   "display_name": "opencv-env",
   "language": "python",
   "name": "python3"
  },
  "language_info": {
   "codemirror_mode": {
    "name": "ipython",
    "version": 3
   },
   "file_extension": ".py",
   "mimetype": "text/x-python",
   "name": "python",
   "nbconvert_exporter": "python",
   "pygments_lexer": "ipython3",
   "version": "3.10.8"
  },
  "orig_nbformat": 4,
  "vscode": {
   "interpreter": {
    "hash": "1d21e022af8236c8325058426aa9fe760922b364c24e81e4266f3a112b7ae044"
   }
  }
 },
 "nbformat": 4,
 "nbformat_minor": 2
}
