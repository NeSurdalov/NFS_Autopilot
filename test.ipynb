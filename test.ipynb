{
 "cells": [
  {
   "cell_type": "code",
   "execution_count": 3,
   "metadata": {},
   "outputs": [],
   "source": [
    "import numpy as np\n",
    "import cv2"
   ]
  },
  {
   "cell_type": "code",
   "execution_count": 5,
   "metadata": {},
   "outputs": [
    {
     "name": "stdout",
     "output_type": "stream",
     "text": [
      "(133, 144)\n"
     ]
    }
   ],
   "source": [
    "img = cv2.imread('images/map.jpg')\n",
    "hsv = cv2.cvtColor(img, cv2.COLOR_BGR2HSV)\n",
    "\n",
    "lower_orange = np.array([100, 191, 116])\n",
    "upper_orange = np.array([180, 255, 255])\n",
    "mask = cv2.inRange(img, lower_orange, upper_orange)\n",
    "orange = cv2.bitwise_and(hsv, hsv, mask = mask)\n",
    "\n",
    "def get_center(mask):\n",
    "    for y in range(int(mask.shape[0] / 3), mask.shape[0]):\n",
    "        for x in range(mask.shape[1]):\n",
    "            if mask[y, x] > 100:\n",
    "                return(x, y)\n",
    "\n",
    "fps = 30.0\n",
    "while True:\n",
    "    cv2.imshow('mask', mask)\n",
    "    if cv2.waitKey(1) & 0xFF == ord('q'):\n",
    "        print(get_center(mask))\n",
    "        break\n",
    "cv2.destroyAllWindows()"
   ]
  },
  {
   "cell_type": "code",
   "execution_count": 4,
   "metadata": {},
   "outputs": [
    {
     "name": "stdout",
     "output_type": "stream",
     "text": [
      "It works!\n",
      "None\n"
     ]
    }
   ],
   "source": [
    "import classes.Steering as Steering\n",
    "print(Steering.print_message())"
   ]
  }
 ],
 "metadata": {
  "kernelspec": {
   "display_name": "opencv-env",
   "language": "python",
   "name": "python3"
  },
  "language_info": {
   "codemirror_mode": {
    "name": "ipython",
    "version": 3
   },
   "file_extension": ".py",
   "mimetype": "text/x-python",
   "name": "python",
   "nbconvert_exporter": "python",
   "pygments_lexer": "ipython3",
   "version": "3.10.8 | packaged by conda-forge | (main, Nov 24 2022, 14:07:00) [MSC v.1916 64 bit (AMD64)]"
  },
  "orig_nbformat": 4,
  "vscode": {
   "interpreter": {
    "hash": "1d21e022af8236c8325058426aa9fe760922b364c24e81e4266f3a112b7ae044"
   }
  }
 },
 "nbformat": 4,
 "nbformat_minor": 2
}
