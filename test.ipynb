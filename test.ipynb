{
 "cells": [
  {
   "cell_type": "code",
<<<<<<< HEAD
   "execution_count": 3,
   "metadata": {},
   "outputs": [],
   "source": [
    "import numpy as np\n",
    "import cv2"
   ]
  },
  {
   "cell_type": "code",
   "execution_count": 18,
   "metadata": {},
   "outputs": [],
   "source": [
    "img = cv2.imread('images/map.jpg')\n",
    "hsv = cv2.cvtColor(img, cv2.COLOR_BGR2HSV)\n",
    "\n",
    "lower_orange = np.array([106, 72, 35])\n",
    "upper_orange = np.array([255, 220, 220])\n",
    "mask = cv2.inRange(img, lower_orange, upper_orange)\n",
    "orange = cv2.bitwise_and(hsv, hsv, mask = mask)\n",
    "\n",
    "fps = 30.0\n",
    "while True:\n",
    "    cv2.imshow('orange', orange)\n",
    "    if cv2.waitKey(1) & 0xFF == ord('q'):\n",
    "        break\n",
    "cv2.destroyAllWindows()"
=======
   "execution_count": 4,
   "metadata": {},
   "outputs": [],
   "source": [
    "import keyboard\n"
>>>>>>> 6f0d1f7d65fd88990e775179b8dcbc5cfc78bced
   ]
  }
 ],
 "metadata": {
  "kernelspec": {
<<<<<<< HEAD
   "display_name": "opencv-env",
=======
   "display_name": "Python 3.10.8 ('opencv-env')",
>>>>>>> 6f0d1f7d65fd88990e775179b8dcbc5cfc78bced
   "language": "python",
   "name": "python3"
  },
  "language_info": {
   "codemirror_mode": {
    "name": "ipython",
    "version": 3
   },
   "file_extension": ".py",
   "mimetype": "text/x-python",
   "name": "python",
   "nbconvert_exporter": "python",
   "pygments_lexer": "ipython3",
   "version": "3.10.8"
  },
  "orig_nbformat": 4,
  "vscode": {
   "interpreter": {
<<<<<<< HEAD
    "hash": "1d21e022af8236c8325058426aa9fe760922b364c24e81e4266f3a112b7ae044"
=======
    "hash": "48f7a9830f443d07227a686b836c9c5f6038d57a32b4b7b378aa65b803eeab86"
>>>>>>> 6f0d1f7d65fd88990e775179b8dcbc5cfc78bced
   }
  }
 },
 "nbformat": 4,
 "nbformat_minor": 2
}
