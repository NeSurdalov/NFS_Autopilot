{
 "cells": [
  {
   "cell_type": "code",
   "execution_count": 3,
   "metadata": {},
   "outputs": [],
   "source": [
    "import numpy as np\n",
    "import cv2"
   ]
  },
  {
   "cell_type": "code",
   "execution_count": 18,
   "metadata": {},
   "outputs": [],
   "source": [
    "img = cv2.imread('images/map.jpg')\n",
    "hsv = cv2.cvtColor(img, cv2.COLOR_BGR2HSV)\n",
    "\n",
    "lower_orange = np.array([106, 72, 35])\n",
    "upper_orange = np.array([255, 220, 220])\n",
    "mask = cv2.inRange(img, lower_orange, upper_orange)\n",
    "orange = cv2.bitwise_and(hsv, hsv, mask = mask)\n",
    "\n",
    "fps = 30.0\n",
    "while True:\n",
    "    cv2.imshow('orange', orange)\n",
    "    if cv2.waitKey(1) & 0xFF == ord('q'):\n",
    "        break\n",
    "cv2.destroyAllWindows()"
   ]
  }
 ],
 "metadata": {
  "kernelspec": {
   "display_name": "opencv-env",
   "language": "python",
   "name": "python3"
  },
  "language_info": {
   "codemirror_mode": {
    "name": "ipython",
    "version": 3
   },
   "file_extension": ".py",
   "mimetype": "text/x-python",
   "name": "python",
   "nbconvert_exporter": "python",
   "pygments_lexer": "ipython3",
   "version": "3.10.8"
  },
  "orig_nbformat": 4,
  "vscode": {
   "interpreter": {
    "hash": "1d21e022af8236c8325058426aa9fe760922b364c24e81e4266f3a112b7ae044"
   }
  }
 },
 "nbformat": 4,
 "nbformat_minor": 2
}
